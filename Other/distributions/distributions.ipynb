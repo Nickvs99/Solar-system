{
 "cells": [
  {
   "cell_type": "markdown",
   "metadata": {},
   "source": [
    "# Visual representation of distributions"
   ]
  },
  {
   "cell_type": "code",
   "execution_count": null,
   "metadata": {},
   "outputs": [],
   "source": [
    "import numpy as np\n",
    "import plotly.graph_objects as go\n",
    "from ipywidgets import interact"
   ]
  },
  {
   "cell_type": "code",
   "execution_count": null,
   "metadata": {},
   "outputs": [],
   "source": [
    "def normpdf(x, mean, sd):\n",
    "    var = float(sd)**2\n",
    "    denom = (2*np.pi*var)**.5\n",
    "    num = np.e ** (-(float(x)-float(mean))**2/(2*var))\n",
    "\n",
    "    return num/denom\n",
    "\n",
    "def func(x, mean, sd):\n",
    "    \n",
    "    return normpdf(np.log10(x), mean, sd)\n",
    "\n",
    "def get_y_values(x_values, mean, sd):\n",
    "\n",
    "    return [func(x, mean, sd) for x in x_values]\n"
   ]
  },
  {
   "cell_type": "code",
   "execution_count": null,
   "metadata": {},
   "outputs": [],
   "source": [
    "fig = go.FigureWidget()\n",
    "fig.update_xaxes(type=\"log\")\n",
    "fig.update_yaxes(type=\"log\")\n",
    "ax = fig.add_scatter()\n",
    "\n",
    "fig.update_layout(\n",
    "    xaxis_title=\"X\",\n",
    "    yaxis_title=\"Probability density function\",\n",
    "    font= {\n",
    "        \"family\":\"Courier New, monospace\",\n",
    "    }\n",
    ")\n",
    "\n",
    "@interact(mu=(-3,3,0.1), sigma = (0.1, 2,0.02), exp=(0,10,1))\n",
    "def update(mu = 0, sigma = 0.70, exp=2):\n",
    "\n",
    "    x_values = np.logspace(-exp, exp, 100)\n",
    "    y_values = get_y_values(x_values, mu, sigma)\n",
    "\n",
    "    with fig.batch_update():\n",
    "        scatt = fig.data[0]\n",
    "        scatt.x = x_values\n",
    "        scatt.y = y_values\n",
    "\n",
    "fig"
   ]
  },
  {
   "cell_type": "code",
   "execution_count": null,
   "metadata": {},
   "outputs": [],
   "source": []
  }
 ],
 "metadata": {
  "language_info": {
   "codemirror_mode": {
    "name": "ipython",
    "version": 3
   },
   "file_extension": ".py",
   "mimetype": "text/x-python",
   "name": "python",
   "nbconvert_exporter": "python",
   "pygments_lexer": "ipython3",
   "version": "3.8.2-final"
  },
  "orig_nbformat": 2,
  "kernelspec": {
   "name": "python38232bit2326b1cf4b7d4ee280ef7356dbe992fd",
   "display_name": "Python 3.8.2 32-bit"
  }
 },
 "nbformat": 4,
 "nbformat_minor": 2
}