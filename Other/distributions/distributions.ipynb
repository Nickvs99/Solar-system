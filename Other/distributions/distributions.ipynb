{
 "cells": [
  {
   "cell_type": "markdown",
   "metadata": {},
   "source": [
    "# Visual presentation of distribution"
   ]
  },
  {
   "cell_type": "code",
   "execution_count": null,
   "metadata": {},
   "outputs": [],
   "source": [
    "import plotly.graph_objects as go\n",
    "import numpy as np\n",
    "from ipywidgets import interact"
   ]
  },
  {
   "cell_type": "code",
   "execution_count": null,
   "metadata": {},
   "outputs": [],
   "source": [
    "def distribution(x, mu, sigma):\n",
    "\n",
    "    # https://docs.scipy.org/doc/numpy-1.15.1/reference/generated/numpy.random.lognormal.html\n",
    "\n",
    "    factor = 1 / (sigma * x * (2 * np.pi) ** 0.5)\n",
    "    numerator = - (np.log(x) - mu) ** 2\n",
    "    denominator = 2 * sigma ** 2\n",
    "    \n",
    "    return factor * np.e ** (numerator / denominator)\n",
    "\n",
    "def get_y_values(x_values, mu, sigma):\n",
    "\n",
    "    y_values =  []\n",
    "    for x_value in x_values:\n",
    "        y_values.append(distribution(x_value, mu, sigma))\n",
    "\n",
    "    return y_values\n",
    "\n",
    "def proportion(y_values, mu, sigma):\n",
    "    \n",
    "    max_value = max(y_values)\n",
    "    print(\"Proportion of max_value\")\n",
    "    for i in [0.01, 0.1, 1, 10, 100]:\n",
    "        print(f\"{i: <{4}}, {func(i, mu, sigma) / max_value * 100}%\" )"
   ]
  },
  {
   "cell_type": "code",
   "execution_count": null,
   "metadata": {},
   "outputs": [],
   "source": [
    "x_values = np.logspace(-2, 2)\n",
    "\n",
    "fig = go.FigureWidget()\n",
    "fig.update_xaxes(type=\"log\")\n",
    "fig.update_yaxes(type=\"log\")\n",
    "\n",
    "ax = fig.add_scatter()\n",
    "\n",
    "@interact(mu=(0,40,0.1), sigma=(0, 10, 0.1))\n",
    "def update(mu = 2.6, sigma = 1.6):\n",
    "    \n",
    "    y_values = get_y_values(x_values, mu, sigma)\n",
    "    with fig.batch_update():\n",
    "        scatt = fig.data[0]\n",
    "        scatt.x = x_values\n",
    "        scatt.y = y_values\n",
    "\n",
    "    proportion(y_values, mu, sigma)\n",
    "\n",
    "fig"
   ]
  },
  {
   "cell_type": "code",
   "execution_count": null,
   "metadata": {},
   "outputs": [],
   "source": []
  }
 ],
 "metadata": {
  "language_info": {
   "codemirror_mode": {
    "name": "ipython",
    "version": 3
   },
   "file_extension": ".py",
   "mimetype": "text/x-python",
   "name": "python",
   "nbconvert_exporter": "python",
   "pygments_lexer": "ipython3",
   "version": "3.8.2-final"
  },
  "orig_nbformat": 2,
  "kernelspec": {
   "name": "python38232bit2326b1cf4b7d4ee280ef7356dbe992fd",
   "display_name": "Python 3.8.2 32-bit"
  }
 },
 "nbformat": 4,
 "nbformat_minor": 2
}