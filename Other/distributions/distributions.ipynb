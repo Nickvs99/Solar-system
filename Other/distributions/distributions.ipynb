{
 "cells": [
  {
   "cell_type": "markdown",
   "metadata": {},
   "source": [
    "# Visual presentation of distribution"
   ]
  },
  {
   "cell_type": "code",
   "execution_count": 13,
   "metadata": {},
   "outputs": [],
   "source": [
    "import numpy as np\n",
    "import matplotlib.pyplot as plt\n",
    "from ipywidgets import interact, fixed"
   ]
  },
  {
   "cell_type": "code",
   "execution_count": 48,
   "metadata": {},
   "outputs": [
    {
     "output_type": "display_data",
     "data": {
      "text/plain": "interactive(children=(FloatSlider(value=2.0, description='mu', max=5.0), FloatSlider(value=5.0, description='s…",
      "application/vnd.jupyter.widget-view+json": {
       "version_major": 2,
       "version_minor": 0,
       "model_id": "d9153686b81f478b948592ee25ee9f80"
      }
     },
     "metadata": {}
    },
    {
     "output_type": "execute_result",
     "data": {
      "text/plain": "<function __main__.update(mu, sigma)>"
     },
     "metadata": {},
     "execution_count": 48
    }
   ],
   "source": [
    "def func(x, mu, sigma, exp):\n",
    "\n",
    "    return mu * x ** exp / (np.e ** (sigma * x) - 1 )\n",
    "\n",
    "def get_y_values(x_values, mu, sigma, exp):\n",
    "\n",
    "    y_values =  []\n",
    "    for x_value in x_values:\n",
    "        y_values.append(func(x_value, mu, sigma, exp))\n",
    "\n",
    "    return y_values\n",
    "\n",
    "def update(mu, sigma, exp):\n",
    "    # x_values = np.linspace(0,3)\n",
    "    x_values = np.logspace(-2, 2)\n",
    "    y_values = get_y_values(x_values, mu, sigma, exp)\n",
    "    plt.plot(x_values, y_values)\n",
    "    plt.xscale(\"log\")\n",
    "    plt.yscale(\"log\")\n",
    "    plt.show()\n",
    "\n",
    "plot = interact(update, mu=(0,5,0.1), sigma=(0, 10, 0.1))\n",
    "plot"
   ]
  },
  {
   "cell_type": "code",
   "execution_count": null,
   "metadata": {},
   "outputs": [],
   "source": []
  }
 ],
 "metadata": {
  "language_info": {
   "codemirror_mode": {
    "name": "ipython",
    "version": 3
   },
   "file_extension": ".py",
   "mimetype": "text/x-python",
   "name": "python",
   "nbconvert_exporter": "python",
   "pygments_lexer": "ipython3",
   "version": "3.8.2-final"
  },
  "orig_nbformat": 2,
  "kernelspec": {
   "name": "python38232bit2326b1cf4b7d4ee280ef7356dbe992fd",
   "display_name": "Python 3.8.2 32-bit"
  }
 },
 "nbformat": 4,
 "nbformat_minor": 2
}