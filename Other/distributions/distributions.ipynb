{
 "cells": [
  {
   "cell_type": "markdown",
   "metadata": {},
   "source": [
    "# Visual presentation of distribution"
   ]
  },
  {
   "cell_type": "code",
   "execution_count": null,
   "metadata": {},
   "outputs": [],
   "source": [
    "import numpy as np\n",
    "import matplotlib.pyplot as plt\n",
    "from ipywidgets import interact"
   ]
  },
  {
   "cell_type": "code",
   "execution_count": null,
   "metadata": {},
   "outputs": [],
   "source": [
    "def func(x, mu, sigma, exp):\n",
    "\n",
    "    # https://docs.scipy.org/doc/numpy-1.15.1/reference/generated/numpy.random.lognormal.html\n",
    "\n",
    "    factor = 1 / (sigma * x * (2 * np.pi) ** 0.5)\n",
    "    numerator = - (np.log(x) - mu) ** 2\n",
    "    denominator = 2 * sigma ** 2\n",
    "    \n",
    "    return factor * np.e ** (numerator / denominator)\n",
    "\n",
    "def get_y_values(x_values, mu, sigma, exp):\n",
    "\n",
    "    y_values =  []\n",
    "    for x_value in x_values:\n",
    "        y_values.append(func(x_value, mu, sigma, exp))\n",
    "\n",
    "    return y_values\n",
    "\n",
    "# x_values = np.linspace(0,3)\n",
    "\n",
    "def update(mu, sigma, exp):\n",
    "\n",
    "    y_values = get_y_values(x_values, mu, sigma, exp)\n",
    "    plt.xscale(\"log\")\n",
    "    plt.yscale(\"log\")\n",
    "    plt.plot(x_values, y_values)\n",
    "    plt.show()\n",
    "x_values = np.logspace(-2, 2)\n",
    "\n",
    "plot = interact(update, mu=(0,5,0.1), sigma=(0, 10, 0.1), exp=(0,10,0.2))\n"
   ]
  }
 ],
 "metadata": {
  "language_info": {
   "codemirror_mode": {
    "name": "ipython",
    "version": 3
   },
   "file_extension": ".py",
   "mimetype": "text/x-python",
   "name": "python",
   "nbconvert_exporter": "python",
   "pygments_lexer": "ipython3",
   "version": "3.8.2-final"
  },
  "orig_nbformat": 2,
  "kernelspec": {
   "name": "python38232bit2326b1cf4b7d4ee280ef7356dbe992fd",
   "display_name": "Python 3.8.2 32-bit"
  }
 },
 "nbformat": 4,
 "nbformat_minor": 2
}